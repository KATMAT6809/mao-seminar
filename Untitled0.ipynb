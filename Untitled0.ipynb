{
  "nbformat": 4,
  "nbformat_minor": 0,
  "metadata": {
    "colab": {
      "provenance": [],
      "authorship_tag": "ABX9TyOBpPuSqayu7FRCyfGq3MEf",
      "include_colab_link": true
    },
    "kernelspec": {
      "name": "python3",
      "display_name": "Python 3"
    },
    "language_info": {
      "name": "python"
    }
  },
  "cells": [
    {
      "cell_type": "markdown",
      "metadata": {
        "id": "view-in-github",
        "colab_type": "text"
      },
      "source": [
        "<a href=\"https://colab.research.google.com/github/KATMAT6809/mao-seminar/blob/master/Untitled0.ipynb\" target=\"_parent\"><img src=\"https://colab.research.google.com/assets/colab-badge.svg\" alt=\"Open In Colab\"/></a>"
      ]
    },
    {
      "cell_type": "code",
      "execution_count": 10,
      "metadata": {
        "id": "Ielg6fSdQ61B"
      },
      "outputs": [],
      "source": []
    },
    {
      "cell_type": "markdown",
      "source": [],
      "metadata": {
        "id": "E5CtaKzjVvDM"
      }
    },
    {
      "cell_type": "code",
      "source": [
        "(46 + 200 + 200) // 16"
      ],
      "metadata": {
        "colab": {
          "base_uri": "https://localhost:8080/"
        },
        "id": "6w3DjzzORAww",
        "outputId": "10c0fc68-4296-46df-d625-ae80e8e0f0af"
      },
      "execution_count": 43,
      "outputs": [
        {
          "output_type": "execute_result",
          "data": {
            "text/plain": [
              "27"
            ]
          },
          "metadata": {},
          "execution_count": 43
        }
      ]
    },
    {
      "cell_type": "code",
      "source": [
        "x=3\n",
        "print(x)"
      ],
      "metadata": {
        "colab": {
          "base_uri": "https://localhost:8080/"
        },
        "id": "LbaUZzdgT4Wv",
        "outputId": "cd05c531-ee9c-495d-ad77-3bc2e7fceea7"
      },
      "execution_count": 44,
      "outputs": [
        {
          "output_type": "stream",
          "name": "stdout",
          "text": [
            "3\n"
          ]
        }
      ]
    },
    {
      "cell_type": "code",
      "source": [
        "apple = 'りんご'\n",
        "print(apple)\n",
        "color ='あか'\n",
        "print(color)\n",
        "apple = color\n",
        "print(apple)"
      ],
      "metadata": {
        "colab": {
          "base_uri": "https://localhost:8080/"
        },
        "id": "Xy0OW32LUQJM",
        "outputId": "c88bc02e-d514-4205-bc26-6e53ce604b6f"
      },
      "execution_count": 50,
      "outputs": [
        {
          "output_type": "stream",
          "name": "stdout",
          "text": [
            "りんご\n",
            "あか\n",
            "あか\n"
          ]
        }
      ]
    },
    {
      "cell_type": "code",
      "source": [
        "'あ'.encode()"
      ],
      "metadata": {
        "colab": {
          "base_uri": "https://localhost:8080/"
        },
        "id": "ywErB0_jUOTO",
        "outputId": "f021bb1d-41dd-4cc0-9a6b-22ad4b1ecd96"
      },
      "execution_count": 52,
      "outputs": [
        {
          "output_type": "execute_result",
          "data": {
            "text/plain": [
              "b'\\xe3\\x81\\x82'"
            ]
          },
          "metadata": {},
          "execution_count": 52
        }
      ]
    },
    {
      "cell_type": "code",
      "source": [
        "'日'.encode()\n",
        "'経'.encode()\n",
        "'日経'.encode()"
      ],
      "metadata": {
        "colab": {
          "base_uri": "https://localhost:8080/"
        },
        "collapsed": true,
        "id": "u406CS-_UOv1",
        "outputId": "ee1e9aa2-c18e-4a7b-b51a-80576aad9b9b"
      },
      "execution_count": 55,
      "outputs": [
        {
          "output_type": "execute_result",
          "data": {
            "text/plain": [
              "b'\\xe6\\x97\\xa5\\xe7\\xb5\\x8c'"
            ]
          },
          "metadata": {},
          "execution_count": 55
        }
      ]
    },
    {
      "cell_type": "markdown",
      "source": [
        "'3' + '4'"
      ],
      "metadata": {
        "id": "tFv_ZXBxTqWz"
      }
    },
    {
      "cell_type": "markdown",
      "source": [],
      "metadata": {
        "id": "yorR-wtqRF-t"
      }
    },
    {
      "cell_type": "code",
      "source": [
        "\n",
        "print('ABC\\a\\nDED')"
      ],
      "metadata": {
        "colab": {
          "base_uri": "https://localhost:8080/"
        },
        "id": "5urcYHJhRGxR",
        "outputId": "df0eeae1-9929-41bd-be42-eb11dbd7f942"
      },
      "execution_count": 66,
      "outputs": [
        {
          "output_type": "stream",
          "name": "stdout",
          "text": [
            "ABC\u0007\n",
            "DED\n"
          ]
        }
      ]
    },
    {
      "cell_type": "markdown",
      "source": [],
      "metadata": {
        "id": "Ygj_k4YCRHe9"
      }
    },
    {
      "cell_type": "code",
      "source": [],
      "metadata": {
        "id": "EsQhHzr8dT-B"
      },
      "execution_count": null,
      "outputs": []
    },
    {
      "cell_type": "code",
      "source": [
        "a = 2000\n",
        "b = '20'\n",
        "c = '年'\n",
        "d = '東京'\n",
        "a = b + c\n",
        "print(a + '\\n\\n' + d)"
      ],
      "metadata": {
        "colab": {
          "base_uri": "https://localhost:8080/"
        },
        "id": "RshpFSaQRISS",
        "outputId": "0cd27570-0fec-4e88-b14d-75d3196986f9"
      },
      "execution_count": 68,
      "outputs": [
        {
          "output_type": "stream",
          "name": "stdout",
          "text": [
            "20年\n",
            "\n",
            "東京\n"
          ]
        }
      ]
    }
  ]
}